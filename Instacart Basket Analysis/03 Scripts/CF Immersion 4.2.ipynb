{
 "cells": [
  {
   "cell_type": "code",
   "execution_count": 1,
   "id": "02e94e13",
   "metadata": {},
   "outputs": [],
   "source": [
    "# Import libraries\n",
    "import pandas as pd\n",
    "import numpy as nd\n",
    "import os"
   ]
  },
  {
   "cell_type": "code",
   "execution_count": 2,
   "id": "ec330e54",
   "metadata": {},
   "outputs": [],
   "source": [
    "x = 2"
   ]
  },
  {
   "cell_type": "code",
   "execution_count": 3,
   "id": "96960fc5",
   "metadata": {},
   "outputs": [
    {
     "data": {
      "text/plain": [
       "2"
      ]
     },
     "execution_count": 3,
     "metadata": {},
     "output_type": "execute_result"
    }
   ],
   "source": [
    "x"
   ]
  },
  {
   "cell_type": "code",
   "execution_count": 4,
   "id": "f742e6c8",
   "metadata": {},
   "outputs": [
    {
     "name": "stdout",
     "output_type": "stream",
     "text": [
      "2\n"
     ]
    }
   ],
   "source": [
    "print(x)"
   ]
  },
  {
   "cell_type": "code",
   "execution_count": 5,
   "id": "7184ff83",
   "metadata": {},
   "outputs": [],
   "source": [
    "y = 5.678"
   ]
  },
  {
   "cell_type": "code",
   "execution_count": 6,
   "id": "aac9767b",
   "metadata": {},
   "outputs": [
    {
     "data": {
      "text/plain": [
       "float"
      ]
     },
     "execution_count": 6,
     "metadata": {},
     "output_type": "execute_result"
    }
   ],
   "source": [
    "type(y)"
   ]
  },
  {
   "cell_type": "code",
   "execution_count": 7,
   "id": "058dbb7a",
   "metadata": {},
   "outputs": [],
   "source": [
    "z = 'Brazil'"
   ]
  },
  {
   "cell_type": "code",
   "execution_count": 8,
   "id": "75ebd261",
   "metadata": {},
   "outputs": [
    {
     "data": {
      "text/plain": [
       "str"
      ]
     },
     "execution_count": 8,
     "metadata": {},
     "output_type": "execute_result"
    }
   ],
   "source": [
    "type(z)"
   ]
  },
  {
   "cell_type": "code",
   "execution_count": 9,
   "id": "e3c284d7",
   "metadata": {},
   "outputs": [
    {
     "name": "stdout",
     "output_type": "stream",
     "text": [
      "2\n"
     ]
    }
   ],
   "source": [
    "print(x)"
   ]
  },
  {
   "cell_type": "code",
   "execution_count": 10,
   "id": "63aa8e88",
   "metadata": {},
   "outputs": [
    {
     "data": {
      "text/plain": [
       "6"
      ]
     },
     "execution_count": 10,
     "metadata": {},
     "output_type": "execute_result"
    }
   ],
   "source": [
    "x + 4"
   ]
  },
  {
   "cell_type": "markdown",
   "id": "21da13e2",
   "metadata": {},
   "source": [
    "# 4.2 Tasks Steps"
   ]
  },
  {
   "cell_type": "code",
   "execution_count": 48,
   "id": "ec4ec039",
   "metadata": {},
   "outputs": [],
   "source": [
    "l = 60\n",
    "m = 40"
   ]
  },
  {
   "cell_type": "code",
   "execution_count": 49,
   "id": "55e7bdb5",
   "metadata": {},
   "outputs": [
    {
     "data": {
      "text/plain": [
       "100"
      ]
     },
     "execution_count": 49,
     "metadata": {},
     "output_type": "execute_result"
    }
   ],
   "source": [
    "l + m"
   ]
  },
  {
   "cell_type": "code",
   "execution_count": 50,
   "id": "9ded72ac",
   "metadata": {},
   "outputs": [],
   "source": [
    "l = l + 40"
   ]
  },
  {
   "cell_type": "code",
   "execution_count": 51,
   "id": "1d5acabb",
   "metadata": {},
   "outputs": [
    {
     "name": "stdout",
     "output_type": "stream",
     "text": [
      "100\n"
     ]
    }
   ],
   "source": [
    "print(l)"
   ]
  },
  {
   "cell_type": "code",
   "execution_count": 53,
   "id": "bc0517b5",
   "metadata": {},
   "outputs": [],
   "source": [
    "N = 140"
   ]
  },
  {
   "cell_type": "code",
   "execution_count": 54,
   "id": "f8aeb7dc",
   "metadata": {},
   "outputs": [
    {
     "data": {
      "text/plain": [
       "100"
      ]
     },
     "execution_count": 54,
     "metadata": {},
     "output_type": "execute_result"
    }
   ],
   "source": [
    "N - m"
   ]
  },
  {
   "cell_type": "code",
   "execution_count": null,
   "id": "2e4f8187",
   "metadata": {},
   "outputs": [],
   "source": [
    "# step 8 "
   ]
  },
  {
   "cell_type": "code",
   "execution_count": 55,
   "id": "bc9f6f7d",
   "metadata": {},
   "outputs": [],
   "source": [
    "R = 18.64\n",
    "T = 3.08"
   ]
  },
  {
   "cell_type": "code",
   "execution_count": 56,
   "id": "a57c32e0",
   "metadata": {},
   "outputs": [
    {
     "data": {
      "text/plain": [
       "6.051948051948052"
      ]
     },
     "execution_count": 56,
     "metadata": {},
     "output_type": "execute_result"
    }
   ],
   "source": [
    "R / T"
   ]
  },
  {
   "cell_type": "code",
   "execution_count": 57,
   "id": "521c7245",
   "metadata": {},
   "outputs": [],
   "source": [
    "# Step 9 - Short Word"
   ]
  },
  {
   "cell_type": "code",
   "execution_count": 58,
   "id": "58d7c12e",
   "metadata": {},
   "outputs": [],
   "source": [
    "A = 'Step'\n",
    "B = 'Son'"
   ]
  },
  {
   "cell_type": "code",
   "execution_count": 59,
   "id": "a2997048",
   "metadata": {},
   "outputs": [
    {
     "data": {
      "text/plain": [
       "'StepSon'"
      ]
     },
     "execution_count": 59,
     "metadata": {},
     "output_type": "execute_result"
    }
   ],
   "source": [
    "A + B"
   ]
  },
  {
   "cell_type": "code",
   "execution_count": 60,
   "id": "2f53bd1b",
   "metadata": {},
   "outputs": [],
   "source": [
    "# Step 10 Short Sentences"
   ]
  },
  {
   "cell_type": "code",
   "execution_count": 71,
   "id": "5b0022d0",
   "metadata": {},
   "outputs": [],
   "source": [
    "D = 'I love'\n",
    "E = 'my mom'"
   ]
  },
  {
   "cell_type": "code",
   "execution_count": 72,
   "id": "80ca4538",
   "metadata": {},
   "outputs": [
    {
     "data": {
      "text/plain": [
       "'I lovemy mom'"
      ]
     },
     "execution_count": 72,
     "metadata": {},
     "output_type": "execute_result"
    }
   ],
   "source": [
    "D+E "
   ]
  },
  {
   "cell_type": "code",
   "execution_count": 69,
   "id": "20128c5e",
   "metadata": {},
   "outputs": [],
   "source": [
    "W = 'how are '\n",
    "S = 'you today'"
   ]
  },
  {
   "cell_type": "code",
   "execution_count": 70,
   "id": "8cd9ac23",
   "metadata": {},
   "outputs": [
    {
     "data": {
      "text/plain": [
       "'how are you today'"
      ]
     },
     "execution_count": 70,
     "metadata": {},
     "output_type": "execute_result"
    }
   ],
   "source": [
    "W + S"
   ]
  },
  {
   "cell_type": "code",
   "execution_count": 73,
   "id": "36ff3483",
   "metadata": {},
   "outputs": [
    {
     "data": {
      "text/plain": [
       "'how are you todayhow are you todayhow are you todayhow are you todayhow are you todayhow are you todayhow are you todayhow are you todayhow are you todayhow are you todayhow are you todayhow are you todayhow are you todayhow are you todayhow are you todayhow are you todayhow are you todayhow are you todayhow are you todayhow are you todayhow are you todayhow are you todayhow are you todayhow are you todayhow are you todayhow are you todayhow are you todayhow are you todayhow are you todayhow are you todayhow are you todayhow are you todayhow are you todayhow are you todayhow are you todayhow are you todayhow are you todayhow are you todayhow are you todayhow are you todayhow are you todayhow are you todayhow are you todayhow are you todayhow are you todayhow are you todayhow are you todayhow are you todayhow are you todayhow are you todayhow are you todayhow are you todayhow are you todayhow are you todayhow are you todayhow are you todayhow are you todayhow are you todayhow are you todayhow are you todayhow are you todayhow are you todayhow are you todayhow are you todayhow are you todayhow are you todayhow are you todayhow are you todayhow are you todayhow are you todayhow are you todayhow are you todayhow are you todayhow are you todayhow are you todayhow are you todayhow are you todayhow are you todayhow are you todayhow are you todayhow are you todayhow are you todayhow are you todayhow are you todayhow are you todayhow are you todayhow are you todayhow are you todayhow are you todayhow are you todayhow are you todayhow are you todayhow are you todayhow are you todayhow are you todayhow are you todayhow are you todayhow are you todayhow are you todayhow are you today'"
      ]
     },
     "execution_count": 73,
     "metadata": {},
     "output_type": "execute_result"
    }
   ],
   "source": [
    "(W + S)*100"
   ]
  },
  {
   "cell_type": "code",
   "execution_count": null,
   "id": "1363636a",
   "metadata": {},
   "outputs": [],
   "source": []
  }
 ],
 "metadata": {
  "kernelspec": {
   "display_name": "Python 3 (ipykernel)",
   "language": "python",
   "name": "python3"
  },
  "language_info": {
   "codemirror_mode": {
    "name": "ipython",
    "version": 3
   },
   "file_extension": ".py",
   "mimetype": "text/x-python",
   "name": "python",
   "nbconvert_exporter": "python",
   "pygments_lexer": "ipython3",
   "version": "3.10.9"
  }
 },
 "nbformat": 4,
 "nbformat_minor": 5
}
