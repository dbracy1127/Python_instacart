{
 "cells": [
  {
   "cell_type": "code",
   "execution_count": 1,
   "id": "00be7246",
   "metadata": {},
   "outputs": [],
   "source": [
    "#Import Libraries\n",
    "import pandas as pd\n",
    "import numpy as np\n",
    "import os\n",
    "import matplotlib.pyplot as plt\n",
    "import seaborn as sns\n",
    "import scipy"
   ]
  },
  {
   "cell_type": "code",
   "execution_count": 34,
   "id": "72c9d2e8",
   "metadata": {},
   "outputs": [],
   "source": [
    "path = r'/Users/Dom/Documents/Pizza+Place+Sales'"
   ]
  },
  {
   "cell_type": "code",
   "execution_count": 36,
   "id": "7a135822",
   "metadata": {},
   "outputs": [],
   "source": [
    "df_pizza_types = pd.read_csv(os.path.join(path, 'pizza_sales', 'pizza_types.csv'), encoding='latin-1')"
   ]
  },
  {
   "cell_type": "code",
   "execution_count": 37,
   "id": "2f5f8ec4",
   "metadata": {},
   "outputs": [],
   "source": [
    "df_pizzas = pd.read_csv(os.path.join(path, 'pizza_sales', 'pizzas.csv'), encoding='latin-1')"
   ]
  },
  {
   "cell_type": "code",
   "execution_count": 38,
   "id": "4a5a5632",
   "metadata": {},
   "outputs": [],
   "source": [
    "df_order_details = pd.read_csv(os.path.join(path, 'pizza_sales', 'order_details.csv'), encoding='latin-1')"
   ]
  },
  {
   "cell_type": "code",
   "execution_count": 39,
   "id": "947cb10f",
   "metadata": {},
   "outputs": [],
   "source": [
    "df_orders = pd.read_csv(os.path.join(path, 'pizza_sales', 'orders.csv'), encoding='latin-1')"
   ]
  },
  {
   "cell_type": "code",
   "execution_count": null,
   "id": "63613723",
   "metadata": {},
   "outputs": [],
   "source": []
  }
 ],
 "metadata": {
  "kernelspec": {
   "display_name": "Python 3 (ipykernel)",
   "language": "python",
   "name": "python3"
  },
  "language_info": {
   "codemirror_mode": {
    "name": "ipython",
    "version": 3
   },
   "file_extension": ".py",
   "mimetype": "text/x-python",
   "name": "python",
   "nbconvert_exporter": "python",
   "pygments_lexer": "ipython3",
   "version": "3.10.9"
  }
 },
 "nbformat": 4,
 "nbformat_minor": 5
}
